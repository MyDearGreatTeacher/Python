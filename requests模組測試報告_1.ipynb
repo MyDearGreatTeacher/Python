{
  "nbformat": 4,
  "nbformat_minor": 0,
  "metadata": {
    "colab": {
      "name": "requests模組測試報告_1.ipynb",
      "version": "0.3.2",
      "provenance": [],
      "include_colab_link": true
    },
    "kernelspec": {
      "name": "python3",
      "display_name": "Python 3"
    }
  },
  "cells": [
    {
      "cell_type": "markdown",
      "metadata": {
        "id": "view-in-github",
        "colab_type": "text"
      },
      "source": [
        "<a href=\"https://colab.research.google.com/github/MyDearGreatTeacher/Python/blob/master/requests%E6%A8%A1%E7%B5%84%E6%B8%AC%E8%A9%A6%E5%A0%B1%E5%91%8A_1.ipynb\" target=\"_parent\"><img src=\"https://colab.research.google.com/assets/colab-badge.svg\" alt=\"Open In Colab\"/></a>"
      ]
    },
    {
      "metadata": {
        "id": "_YvAHrYsKwha",
        "colab_type": "code",
        "colab": {}
      },
      "cell_type": "code",
      "source": [
        "import requests"
      ],
      "execution_count": 0,
      "outputs": []
    },
    {
      "metadata": {
        "id": "PuOMQaRxK8XI",
        "colab_type": "code",
        "colab": {}
      },
      "cell_type": "code",
      "source": [
        "!pip list"
      ],
      "execution_count": 0,
      "outputs": []
    },
    {
      "metadata": {
        "id": "S3WXWET2Lhiw",
        "colab_type": "code",
        "colab": {}
      },
      "cell_type": "code",
      "source": [
        "r = requests.get('http://www.flag.com.tw')\n",
        "#r = requests.get('http://www.myflag.com.tw')"
      ],
      "execution_count": 0,
      "outputs": []
    },
    {
      "metadata": {
        "id": "JZ3gzqANLm0Q",
        "colab_type": "code",
        "colab": {
          "base_uri": "https://localhost:8080/",
          "height": 35
        },
        "outputId": "476a7a8a-f378-499b-f5f1-a4678dadec32"
      },
      "cell_type": "code",
      "source": [
        "r"
      ],
      "execution_count": 4,
      "outputs": [
        {
          "output_type": "execute_result",
          "data": {
            "text/plain": [
              "<Response [200]>"
            ]
          },
          "metadata": {
            "tags": []
          },
          "execution_count": 4
        }
      ]
    },
    {
      "metadata": {
        "id": "vVfsmWXkLomx",
        "colab_type": "code",
        "colab": {
          "base_uri": "https://localhost:8080/",
          "height": 35
        },
        "outputId": "1eca4c00-603b-43e3-fb39-cf58ebd8e698"
      },
      "cell_type": "code",
      "source": [
        "r.status_code"
      ],
      "execution_count": 5,
      "outputs": [
        {
          "output_type": "execute_result",
          "data": {
            "text/plain": [
              "200"
            ]
          },
          "metadata": {
            "tags": []
          },
          "execution_count": 5
        }
      ]
    },
    {
      "metadata": {
        "id": "CYnvnTZ-L31I",
        "colab_type": "code",
        "colab": {
          "base_uri": "https://localhost:8080/",
          "height": 55
        },
        "outputId": "58b95bbf-5df6-43da-eef1-24e4c054a5aa"
      },
      "cell_type": "code",
      "source": [
        "r.text"
      ],
      "execution_count": 8,
      "outputs": [
        {
          "output_type": "execute_result",
          "data": {
            "text/plain": [
              "'<!doctype html>\\n<html>\\n\\t<head>\\n\\t<meta charset=\"utf-8\">\\n\\t<meta name=\"viewport\" content=\"width=device-width,initial-scale=1.0,minimum-scale=1.0\">\\n\\t<title>旗標科技</title>\\n\\t<link rel=\"stylesheet\" href=\"https://www.flag.com.tw/assets/css/home/normalize.css\">\\n\\t<link rel=\"stylesheet\" href=\"https://www.flag.com.tw/assets/css/home/style.css\">\\n\\t<link rel=\"stylesheet\" href=\"https://www.flag.com.tw/assets/css/home/animate.css\">\\n\\t<link rel=\"stylesheet\" href=\"https://www.flag.com.tw/assets/css/home/font-awesome.css\">\\n\\t<link rel=\"stylesheet\" href=\"https://www.flag.com.tw/assets/css/home/bigvideo.css\">\\n\\t<script type=\"text/javascript\" src=\"https://www.flag.com.tw/assets/js/jquery-3.2.1.min.js\"></script>\\n    <script src=\"https://www.flag.com.tw/assets/js/jquery-ui.min.js\"></script>\\n\\t<script src=\"//vjs.zencdn.net/4.3/video.js\"></script>\\n\\t<script src=\"https://www.flag.com.tw/assets/js/bigvideo.js\"></script>\\n\\n<link rel=\"icon\" href=\"https://www.flag.com.tw/assets/img/flag.png\" sizes=\"32x32\" />\\n<!-- Global site tag (gtag.js) - Google Analytics -->\\n<script async src=\"https://www.googletagmanager.com/gtag/js?id=UA-122475394-1\"></script>\\n<script>\\n  window.dataLayer = window.dataLayer || [];\\n  function gtag(){dataLayer.push(arguments);}\\n  gtag(\\'js\\', new Date());\\n\\n  gtag(\\'config\\', \\'UA-122475394-1\\');\\n</script>\\n<meta property=\"og:image\" content=\"https://www.flag.com.tw/assets/img/flag-32.png\">\\n\\t</head>\\n\\t<body class=\"homepage\">\\n\\n    <!-- Demo -->\\n\\n\\n<section class=\"homeheader\">\\n      <div class=\"home\">\\n\\t  \\t  <div class=\"home-title\"><img src=\"https://www.flag.com.tw/assets/img/home/home-title.png\"></div>\\n    <div class=\"home-logo\"><img class=\"home-loc\" src=\"https://www.flag.com.tw/assets/img/home/flag-logo-black.png\"></div>\\n   <form action=\"https://www.flag.com.tw/books/book_searching\" method=\"post\" class=\"search\" role=\"search\">\\n      <div class=\"form__field\">\\n        <input type=\"text\" name=\"book_search\" placeholder=\"關鍵字搜尋\" class=\"form__input\" value=\"\"  autofocus>\\n        \\n      </div>\\n\\n    </form>\\n  </div>\\n\\t\\n<div class=\"mainbtn\">\\n    <div class=\"sub-main\">\\n      <button class=\"button-three bluebtn\"  onclick=\"location.href=\\'https://www.flag.com.tw/books\\'\"><p>Books</p><h4>圖書</h4></button>\\n    </div>\\n    <div class=\"sub-main\">\\n      <button class=\"button-three orangebtn\" onclick=\"location.href=\\'https://www.flag.com.tw/maker\\'\"><p>Maker</p><h4>創客</h4></button>\\n    </div>\\n    <div class=\"sub-main\">\\n      <button class=\"button-three pinkbtn\" onclick=\"location.href=\\'https://www.flag.com.tw/books/school\\'\"><p>Textbooks</p><h4>教科書</h4></button>\\n    </div>\\n\\t <div class=\"sub-main\">\\n      <button class=\"button-three purplebtn\" onclick=\"location.href=\\'https://www.flag.com.tw/teachaid/AIrobot\\'\"><p>Teach Aid</p><h4>教具</h4></button>\\n    </div>\\n  </div>\\n    </section>\\n\\n\\t\\t<footer role=\"contentinfo\">\\n    <table class=\"clmtable\">\\n      <tr>\\n        <td><a href=\"https://www.flag.com.tw/flag/contact\">聯絡我們</a></td>\\n\\t\\t<td><a href=\"https://www.flag.com.tw/people/aboutflag.asp\">關於旗標</a></td>\\n        <td><a href=\"https://www.flag.com.tw/epaper/privacy.asp\">隱私權規約</a></td>\\n      </tr>\\n    </table>\\n <div class=\"footer-bottom\">\\n    <p class=\"footer-left\"> <strong>旗標科技股份有限公司</strong></p><p>台北市中正區\\n      杭州南路一段15-1號19樓 </p>\\n    <p class=\"footer-right\">© Flag Technology CO.,LTD.\\n      All rights reserved.</p>\\n  </div>\\n</footer>\\n</body>\\n \\n</html>\\n'"
            ]
          },
          "metadata": {
            "tags": []
          },
          "execution_count": 8
        }
      ]
    },
    {
      "metadata": {
        "id": "im5S2_dANG_B",
        "colab_type": "code",
        "colab": {}
      },
      "cell_type": "code",
      "source": [
        " r = requests.post('http://httpbin.org/post', data = {'key':'value'})"
      ],
      "execution_count": 0,
      "outputs": []
    },
    {
      "metadata": {
        "id": "cd358vPRNIZg",
        "colab_type": "code",
        "colab": {
          "base_uri": "https://localhost:8080/",
          "height": 35
        },
        "outputId": "b5bf7561-cf14-4ddc-b78f-fa3d4de29b67"
      },
      "cell_type": "code",
      "source": [
        "r"
      ],
      "execution_count": 11,
      "outputs": [
        {
          "output_type": "execute_result",
          "data": {
            "text/plain": [
              "<Response [200]>"
            ]
          },
          "metadata": {
            "tags": []
          },
          "execution_count": 11
        }
      ]
    },
    {
      "metadata": {
        "id": "XlcjW5OlNc-5",
        "colab_type": "code",
        "colab": {
          "base_uri": "https://localhost:8080/",
          "height": 55
        },
        "outputId": "84672c06-5326-4e96-d83f-25c5ca002b9c"
      },
      "cell_type": "code",
      "source": [
        "r.text"
      ],
      "execution_count": 12,
      "outputs": [
        {
          "output_type": "execute_result",
          "data": {
            "text/plain": [
              "'{\\n  \"args\": {}, \\n  \"data\": \"\", \\n  \"files\": {}, \\n  \"form\": {\\n    \"key\": \"value\"\\n  }, \\n  \"headers\": {\\n    \"Accept\": \"*/*\", \\n    \"Accept-Encoding\": \"gzip, deflate\", \\n    \"Content-Length\": \"9\", \\n    \"Content-Type\": \"application/x-www-form-urlencoded\", \\n    \"Host\": \"httpbin.org\", \\n    \"User-Agent\": \"python-requests/2.21.0\"\\n  }, \\n  \"json\": null, \\n  \"origin\": \"35.185.14.126, 35.185.14.126\", \\n  \"url\": \"https://httpbin.org/post\"\\n}\\n'"
            ]
          },
          "metadata": {
            "tags": []
          },
          "execution_count": 12
        }
      ]
    },
    {
      "metadata": {
        "id": "vQgDqyKkOQNB",
        "colab_type": "text"
      },
      "cell_type": "markdown",
      "source": [
        "# json模組\n",
        "\n",
        "http://www.runoob.com/python/python-json.html"
      ]
    },
    {
      "metadata": {
        "id": "tYzOKj_-MHcY",
        "colab_type": "code",
        "colab": {
          "base_uri": "https://localhost:8080/",
          "height": 35
        },
        "outputId": "2268d8cb-e5d1-440f-ebb0-f654298486f9"
      },
      "cell_type": "code",
      "source": [
        "#!/usr/bin/python\n",
        "import json\n",
        "\n",
        "data = [ { 'a' : 1, 'b' : 2, 'c' : 3, 'd' : 4, 'e' : 5 } ]\n",
        "\n",
        "json = json.dumps(data)\n",
        "\n",
        "print(json)"
      ],
      "execution_count": 13,
      "outputs": [
        {
          "output_type": "stream",
          "text": [
            "[{\"a\": 1, \"b\": 2, \"c\": 3, \"d\": 4, \"e\": 5}]\n"
          ],
          "name": "stdout"
        }
      ]
    },
    {
      "metadata": {
        "id": "dqELomdeOY_B",
        "colab_type": "code",
        "colab": {
          "base_uri": "https://localhost:8080/",
          "height": 35
        },
        "outputId": "6b2eb6aa-5bb0-4f2d-fe44-ef1d4a6de9a2"
      },
      "cell_type": "code",
      "source": [
        "#!/usr/bin/python\n",
        "import json\n",
        "\n",
        "jsonData = '{\"a\":1,\"b\":2,\"c\":3,\"d\":4,\"e\":5}'\n",
        "\n",
        "text = json.loads(jsonData)\n",
        "print(text)"
      ],
      "execution_count": 14,
      "outputs": [
        {
          "output_type": "stream",
          "text": [
            "{'a': 1, 'b': 2, 'c': 3, 'd': 4, 'e': 5}\n"
          ],
          "name": "stdout"
        }
      ]
    },
    {
      "metadata": {
        "id": "-0ebu17OOx7p",
        "colab_type": "code",
        "colab": {
          "base_uri": "https://localhost:8080/",
          "height": 35
        },
        "outputId": "84012c1b-6677-4e4d-f625-21b90cbd9410"
      },
      "cell_type": "code",
      "source": [
        "text['a']"
      ],
      "execution_count": 15,
      "outputs": [
        {
          "output_type": "execute_result",
          "data": {
            "text/plain": [
              "1"
            ]
          },
          "metadata": {
            "tags": []
          },
          "execution_count": 15
        }
      ]
    }
  ]
}