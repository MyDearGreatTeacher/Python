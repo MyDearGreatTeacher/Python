{
  "nbformat": 4,
  "nbformat_minor": 0,
  "metadata": {
    "colab": {
      "name": "Python_內建函數.ipynb",
      "version": "0.3.2",
      "provenance": [],
      "include_colab_link": true
    },
    "kernelspec": {
      "name": "python3",
      "display_name": "Python 3"
    }
  },
  "cells": [
    {
      "cell_type": "markdown",
      "metadata": {
        "id": "view-in-github",
        "colab_type": "text"
      },
      "source": [
        "<a href=\"https://colab.research.google.com/github/MyDearGreatTeacher/Python/blob/master/Python_%E5%85%A7%E5%BB%BA%E5%87%BD%E6%95%B8.ipynb\" target=\"_parent\"><img src=\"https://colab.research.google.com/assets/colab-badge.svg\" alt=\"Open In Colab\"/></a>"
      ]
    },
    {
      "cell_type": "markdown",
      "metadata": {
        "id": "Q5QxH5o4i3fS",
        "colab_type": "text"
      },
      "source": [
        "# Python Built in Functions(內建的函數)\n",
        "\n",
        "\n",
        "https://www.w3schools.com/python/python_ref_functions.asp"
      ]
    },
    {
      "cell_type": "markdown",
      "metadata": {
        "id": "9B1c5SLCjCzA",
        "colab_type": "text"
      },
      "source": [
        "# ASCII 好幫手"
      ]
    },
    {
      "cell_type": "code",
      "metadata": {
        "id": "cjVcgpPAiqdO",
        "colab_type": "code",
        "colab": {
          "base_uri": "https://localhost:8080/",
          "height": 34
        },
        "outputId": "51400213-53c7-4a72-dd5b-199b94d9ea61"
      },
      "source": [
        "chr(97)"
      ],
      "execution_count": 2,
      "outputs": [
        {
          "output_type": "execute_result",
          "data": {
            "text/plain": [
              "'a'"
            ]
          },
          "metadata": {
            "tags": []
          },
          "execution_count": 2
        }
      ]
    },
    {
      "cell_type": "code",
      "metadata": {
        "id": "l07OCqKoixjC",
        "colab_type": "code",
        "colab": {
          "base_uri": "https://localhost:8080/",
          "height": 34
        },
        "outputId": "71a25024-5c8d-4e12-8f6b-466ced49fd5d"
      },
      "source": [
        "ord('a')"
      ],
      "execution_count": 4,
      "outputs": [
        {
          "output_type": "execute_result",
          "data": {
            "text/plain": [
              "97"
            ]
          },
          "metadata": {
            "tags": []
          },
          "execution_count": 4
        }
      ]
    },
    {
      "cell_type": "markdown",
      "metadata": {
        "id": "gmbAyr5xl9q1",
        "colab_type": "text"
      },
      "source": [
        "### CTF解答:編碼與解碼 101     ASCII"
      ]
    },
    {
      "cell_type": "code",
      "metadata": {
        "id": "CIdDlpO6jLgU",
        "colab_type": "code",
        "colab": {
          "base_uri": "https://localhost:8080/",
          "height": 34
        },
        "outputId": "33ec2d99-b94b-4ff5-b9c4-110847927768"
      },
      "source": [
        "a=\"66 114\".split(\" \")\n",
        "\n",
        "result=''\n",
        "\n",
        "for x in a:\n",
        "#  print(chr(int(x)))\n",
        "  y=chr(int(x))\n",
        "#  y\n",
        "  result += y\n",
        "  \n",
        "result"
      ],
      "execution_count": 20,
      "outputs": [
        {
          "output_type": "execute_result",
          "data": {
            "text/plain": [
              "'Br'"
            ]
          },
          "metadata": {
            "tags": []
          },
          "execution_count": 20
        }
      ]
    },
    {
      "cell_type": "markdown",
      "metadata": {
        "id": "ORuQUEHMq0Vk",
        "colab_type": "text"
      },
      "source": [
        "### 自己的CTF自己出:\n",
        "\n",
        "答案是BreakAllCTF{HappyPythonDay!A-LO_HA}\n",
        "\n",
        "請提供數字要學員解答"
      ]
    }
  ]
}