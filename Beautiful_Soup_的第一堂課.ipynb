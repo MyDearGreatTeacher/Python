{
  "nbformat": 4,
  "nbformat_minor": 0,
  "metadata": {
    "colab": {
      "name": "Beautiful Soup 的第一堂課.ipynb",
      "version": "0.3.2",
      "provenance": [],
      "include_colab_link": true
    },
    "kernelspec": {
      "name": "python3",
      "display_name": "Python 3"
    }
  },
  "cells": [
    {
      "cell_type": "markdown",
      "metadata": {
        "id": "view-in-github",
        "colab_type": "text"
      },
      "source": [
        "<a href=\"https://colab.research.google.com/github/MyDearGreatTeacher/Python/blob/master/Beautiful_Soup_%E7%9A%84%E7%AC%AC%E4%B8%80%E5%A0%82%E8%AA%B2.ipynb\" target=\"_parent\"><img src=\"https://colab.research.google.com/assets/colab-badge.svg\" alt=\"Open In Colab\"/></a>"
      ]
    },
    {
      "metadata": {
        "id": "m-Kdv8-LmI11",
        "colab_type": "text"
      },
      "cell_type": "markdown",
      "source": [
        "# Beautiful Soup 的第一堂課\n",
        "\n",
        "https://www.crummy.com/software/BeautifulSoup/bs4/doc.zh/\n",
        "\n",
        "https://blog.gtwang.org/programming/python-beautiful-soup-module-scrape-web-pages-tutorial/"
      ]
    },
    {
      "metadata": {
        "id": "ku4WRO1tp8od",
        "colab_type": "text"
      },
      "cell_type": "markdown",
      "source": [
        "https://www.crummy.com/software/BeautifulSoup/bs4/doc.zh/"
      ]
    },
    {
      "metadata": {
        "id": "FgtdIxeal849",
        "colab_type": "code",
        "colab": {}
      },
      "cell_type": "code",
      "source": [
        "# 引入 Beautiful Soup 模組\n",
        "\n",
        "\n",
        "from bs4 import BeautifulSoup"
      ],
      "execution_count": 0,
      "outputs": []
    },
    {
      "metadata": {
        "id": "A41_dESKl5w9",
        "colab_type": "code",
        "colab": {}
      },
      "cell_type": "code",
      "source": [
        "html_doc = \"\"\"\n",
        "<html><head><title>The Dormouse's story</title></head>\n",
        "<body>\n",
        "<p class=\"title\"><b>The Dormouse's story</b></p>\n",
        "\n",
        "<p class=\"story\">Once upon a time there were three little sisters; and their names were\n",
        "<a href=\"http://example.com/elsie\" class=\"sister\" id=\"link1\">Elsie</a>,\n",
        "<a href=\"http://example.com/lacie\" class=\"sister\" id=\"link2\">Lacie</a> and\n",
        "<a href=\"http://example.com/tillie\" class=\"sister\" id=\"link3\">Tillie</a>;\n",
        "and they lived at the bottom of a well.</p>\n",
        "\n",
        "<p class=\"story\">...</p>\n",
        "\"\"\""
      ],
      "execution_count": 0,
      "outputs": []
    },
    {
      "metadata": {
        "id": "V9B4QdFAmCNE",
        "colab_type": "code",
        "colab": {}
      },
      "cell_type": "code",
      "source": [
        "# 以 Beautiful Soup 解析 HTML 程式碼\n",
        "\n",
        "soup = BeautifulSoup(html_doc, 'html.parser')"
      ],
      "execution_count": 0,
      "outputs": []
    },
    {
      "metadata": {
        "id": "WRMb2kRMpc09",
        "colab_type": "text"
      },
      "cell_type": "markdown",
      "source": [
        "###  測驗:輸出排版後的 HTML 程式碼"
      ]
    },
    {
      "metadata": {
        "id": "Z1KU4RnGmDU9",
        "colab_type": "code",
        "colab": {
          "base_uri": "https://localhost:8080/",
          "height": 589
        },
        "outputId": "294993ed-5590-4df7-c3fc-35e6b1959301"
      },
      "cell_type": "code",
      "source": [
        "print(soup.prettify())"
      ],
      "execution_count": 8,
      "outputs": [
        {
          "output_type": "stream",
          "text": [
            "<html>\n",
            " <head>\n",
            "  <title>\n",
            "   The Dormouse's story\n",
            "  </title>\n",
            " </head>\n",
            " <body>\n",
            "  <p class=\"title\">\n",
            "   <b>\n",
            "    The Dormouse's story\n",
            "   </b>\n",
            "  </p>\n",
            "  <p class=\"story\">\n",
            "   Once upon a time there were three little sisters; and their names were\n",
            "   <a class=\"sister\" href=\"http://example.com/elsie\" id=\"link1\">\n",
            "    Elsie\n",
            "   </a>\n",
            "   ,\n",
            "   <a class=\"sister\" href=\"http://example.com/lacie\" id=\"link2\">\n",
            "    Lacie\n",
            "   </a>\n",
            "   and\n",
            "   <a class=\"sister\" href=\"http://example.com/tillie\" id=\"link3\">\n",
            "    Tillie\n",
            "   </a>\n",
            "   ;\n",
            "and they lived at the bottom of a well.\n",
            "  </p>\n",
            "  <p class=\"story\">\n",
            "   ...\n",
            "  </p>\n",
            " </body>\n",
            "</html>\n"
          ],
          "name": "stdout"
        }
      ]
    },
    {
      "metadata": {
        "id": "sN0Eh12PoJym",
        "colab_type": "text"
      },
      "cell_type": "markdown",
      "source": [
        "### 測驗:取得網頁標題標籤的名稱"
      ]
    },
    {
      "metadata": {
        "id": "52kmrUL_nXiV",
        "colab_type": "code",
        "colab": {
          "base_uri": "https://localhost:8080/",
          "height": 35
        },
        "outputId": "05b79b62-013c-419c-cd48-306f1f89a8ca"
      },
      "cell_type": "code",
      "source": [
        "title_tag = soup.title\n",
        "\n",
        "print(title_tag)"
      ],
      "execution_count": 9,
      "outputs": [
        {
          "output_type": "stream",
          "text": [
            "<title>The Dormouse's story</title>\n"
          ],
          "name": "stdout"
        }
      ]
    },
    {
      "metadata": {
        "id": "GOKLcbx1oiAt",
        "colab_type": "text"
      },
      "cell_type": "markdown",
      "source": [
        "### 測驗:取得網頁標題標籤的內容"
      ]
    },
    {
      "metadata": {
        "id": "oI2gBoDLomlN",
        "colab_type": "code",
        "colab": {
          "base_uri": "https://localhost:8080/",
          "height": 35
        },
        "outputId": "4d10fe33-4a83-4b8a-8c0a-3ee4cf9ee8a0"
      },
      "cell_type": "code",
      "source": [
        "print(title_tag.string)"
      ],
      "execution_count": 10,
      "outputs": [
        {
          "output_type": "stream",
          "text": [
            "The Dormouse's story\n"
          ],
          "name": "stdout"
        }
      ]
    },
    {
      "metadata": {
        "id": "9N9OZeRZoyj9",
        "colab_type": "text"
      },
      "cell_type": "markdown",
      "source": [
        "### 測驗:從文檔中找出所有特定的 HTML 標籤節點\n",
        "\n",
        "本次測驗:從文檔中找到所有`<a>`標籤的連結:"
      ]
    },
    {
      "metadata": {
        "id": "Ok8Adakmo6Y9",
        "colab_type": "code",
        "colab": {
          "base_uri": "https://localhost:8080/",
          "height": 69
        },
        "outputId": "6fdc42e2-b6b5-4f2f-9b01-f916bb047370"
      },
      "cell_type": "code",
      "source": [
        "a_tags = soup.find_all('a')\n",
        "for tag in a_tags:\n",
        "  # 輸出超連結的文字\n",
        "  print(tag.string)"
      ],
      "execution_count": 11,
      "outputs": [
        {
          "output_type": "stream",
          "text": [
            "Elsie\n",
            "Lacie\n",
            "Tillie\n"
          ],
          "name": "stdout"
        }
      ]
    },
    {
      "metadata": {
        "id": "Uj2RfFIYpI9t",
        "colab_type": "text"
      },
      "cell_type": "markdown",
      "source": [
        "### 測驗:從文檔中取出 HTML 節點的各種屬性\n",
        "\n",
        "底下請找出每個超連結的網址（href 屬性）"
      ]
    },
    {
      "metadata": {
        "id": "9D6wVvVypSTM",
        "colab_type": "code",
        "colab": {}
      },
      "cell_type": "code",
      "source": [
        "for tag in a_tags:\n",
        "  # 輸出超連結網址\n",
        "  print(tag.get('href'))"
      ],
      "execution_count": 0,
      "outputs": []
    }
  ]
}