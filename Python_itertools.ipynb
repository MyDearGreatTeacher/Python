{
  "nbformat": 4,
  "nbformat_minor": 0,
  "metadata": {
    "colab": {
      "name": "Python_itertools.ipynb",
      "version": "0.3.2",
      "provenance": [],
      "include_colab_link": true
    },
    "kernelspec": {
      "name": "python3",
      "display_name": "Python 3"
    }
  },
  "cells": [
    {
      "cell_type": "markdown",
      "metadata": {
        "id": "view-in-github",
        "colab_type": "text"
      },
      "source": [
        "<a href=\"https://colab.research.google.com/github/MyDearGreatTeacher/Python/blob/master/Python_itertools.ipynb\" target=\"_parent\"><img src=\"https://colab.research.google.com/assets/colab-badge.svg\" alt=\"Open In Colab\"/></a>"
      ]
    },
    {
      "cell_type": "markdown",
      "metadata": {
        "id": "OJuP38TRAoiJ",
        "colab_type": "text"
      },
      "source": [
        "# Python函數式程式設計 Functional Programming Modules\n",
        "\n",
        "https://docs.python.org/zh-cn/3/library/functional.html\n",
        "\n",
        "https://docs.python.org/3/library/functional.html\n",
        "\n",
        "```\n",
        "itertools --- 為高效迴圈而創建反覆運算器的函數\n",
        "Itertool函數\n",
        "Itertools食譜\n",
        "\n",
        "functools --- 高階函數和可調用物件上的操作\n",
        "partial Objects\n",
        "\n",
        "operator --- 標準運算子替代函數\n",
        "Mapping Operators to Functions\n",
        "In-place Operators\n",
        "```"
      ]
    },
    {
      "cell_type": "markdown",
      "metadata": {
        "id": "l_qG3WNX_qzy",
        "colab_type": "text"
      },
      "source": [
        "可重複出現\n",
        "\n",
        "不可重複出現\n",
        "\n",
        "https://docs.python.org/zh-cn/3/library/itertools.html"
      ]
    },
    {
      "cell_type": "code",
      "metadata": {
        "id": "Wk-3gdWt_YUo",
        "colab_type": "code",
        "colab": {}
      },
      "source": [
        "import itertools\n",
        "\n",
        "my_list = [1,2,3,4,5,6,7]\n",
        "\n",
        "\n",
        "#permutations = itertools.permutations(my_list, 3)\n",
        "permutations = itertools.permutations(my_list, 3)\n",
        "\n",
        "for p in permutations:\n",
        "    print(p)"
      ],
      "execution_count": 0,
      "outputs": []
    },
    {
      "cell_type": "code",
      "metadata": {
        "id": "Mc079J4XCfX4",
        "colab_type": "code",
        "colab": {
          "base_uri": "https://localhost:8080/",
          "height": 103
        },
        "outputId": "928e7e55-595f-4a49-de62-8e95b641ee2e"
      },
      "source": [
        "#!/usr/bin/python \n",
        "# -*- coding: UTF-8 -*- \n",
        "\n",
        "def crypt(source, key):\n",
        "    from itertools import cycle\n",
        "    result = ''\n",
        "    temp = cycle(key)\n",
        "    for ch in source:\n",
        "        result = result + chr(ord(ch) ^ ord(next(temp)))\n",
        "    return result\n",
        "\n",
        "source = 'BreakALLCTF_IknowhowtoXORRRRing'\n",
        "key = 'HappyHackingHigh'\n",
        "\n",
        "print('未加密的明文:'+source)\n",
        "encrypted = crypt(source, key)\n",
        "print('加密過的密文:'+encrypted)\n",
        "decrypted = crypt(encrypted, key)\n",
        "print('解密過的答案:'+decrypted)\n",
        "print('使用的金鑰:'+ key)"
      ],
      "execution_count": 3,
      "outputs": [
        {
          "output_type": "stream",
          "text": [
            "未加密的明文:BreakALLCTF_IknowhowtoXORRRRing\n",
            "加密過的密文:\n",
            "\u0013\u0015\u0011\u0012\t-/(=(8\u0001\u0002\t\u0007?\t\u001f\u0007\r'9,9;<5!\u0007\u0000\n",
            "解密過的答案:BreakALLCTF_IknowhowtoXORRRRing\n",
            "使用的金鑰:HappyHackingHigh\n"
          ],
          "name": "stdout"
        }
      ]
    }
  ]
}