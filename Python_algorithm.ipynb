{
  "nbformat": 4,
  "nbformat_minor": 0,
  "metadata": {
    "colab": {
      "name": "Python_algorithm.ipynb",
      "version": "0.3.2",
      "provenance": [],
      "include_colab_link": true
    },
    "kernelspec": {
      "name": "python3",
      "display_name": "Python 3"
    }
  },
  "cells": [
    {
      "cell_type": "markdown",
      "metadata": {
        "id": "view-in-github",
        "colab_type": "text"
      },
      "source": [
        "<a href=\"https://colab.research.google.com/github/MyDearGreatTeacher/Python/blob/master/Python_algorithm.ipynb\" target=\"_parent\"><img src=\"https://colab.research.google.com/assets/colab-badge.svg\" alt=\"Open In Colab\"/></a>"
      ]
    },
    {
      "cell_type": "markdown",
      "metadata": {
        "id": "vgtI3PPKcdtD",
        "colab_type": "text"
      },
      "source": [
        "#  用 Python 學演算法\n",
        "\n",
        "https://github.com/TheAlgorithms/Python"
      ]
    },
    {
      "cell_type": "code",
      "metadata": {
        "id": "ujj3pjxIZVTm",
        "colab_type": "code",
        "colab": {
          "base_uri": "https://localhost:8080/",
          "height": 102
        },
        "outputId": "d64fc11b-81ad-4e59-fb95-ad5a2e9ca37a"
      },
      "source": [
        "!git clone https://github.com/TheAlgorithms/Python.git"
      ],
      "execution_count": 1,
      "outputs": [
        {
          "output_type": "stream",
          "text": [
            "Cloning into 'Python'...\n",
            "remote: Enumerating objects: 3735, done.\u001b[K\n",
            "remote: Total 3735 (delta 0), reused 0 (delta 0), pack-reused 3735\u001b[K\n",
            "Receiving objects: 100% (3735/3735), 7.19 MiB | 32.31 MiB/s, done.\n",
            "Resolving deltas: 100% (1939/1939), done.\n"
          ],
          "name": "stdout"
        }
      ]
    },
    {
      "cell_type": "code",
      "metadata": {
        "id": "KWRiYXICZ1_W",
        "colab_type": "code",
        "colab": {
          "base_uri": "https://localhost:8080/",
          "height": 34
        },
        "outputId": "fe8bb7dc-f4b9-4cf2-c682-183bbcd825f7"
      },
      "source": [
        "!ls"
      ],
      "execution_count": 2,
      "outputs": [
        {
          "output_type": "stream",
          "text": [
            "Python\tsample_data\n"
          ],
          "name": "stdout"
        }
      ]
    },
    {
      "cell_type": "code",
      "metadata": {
        "id": "58EagKl1Z7bU",
        "colab_type": "code",
        "colab": {
          "base_uri": "https://localhost:8080/",
          "height": 170
        },
        "outputId": "a3d349cb-1585-49e4-dc20-20b41ef6512a"
      },
      "source": [
        "import os\n",
        "os.chdir(\"Python\")\n",
        "\n",
        "!ls"
      ],
      "execution_count": 3,
      "outputs": [
        {
          "output_type": "stream",
          "text": [
            "analysis\t\t  graphs\t\t neural_network\n",
            "arithmetic_analysis\t  Graphs\t\t other\n",
            "binary_tree\t\t  hashes\t\t project_euler\n",
            "boolean_algebra\t\t  License\t\t README.md\n",
            "ciphers\t\t\t  linear_algebra_python  searches\n",
            "data_structures\t\t  machine_learning\t simple_client\n",
            "digital_image_processing  maths\t\t\t sorts\n",
            "dynamic_programming\t  matrix\t\t strings\n",
            "file_transfer_protocol\t  networking_flow\t traversals\n"
          ],
          "name": "stdout"
        }
      ]
    },
    {
      "cell_type": "code",
      "metadata": {
        "id": "wLO9xEgXaAJk",
        "colab_type": "code",
        "colab": {
          "base_uri": "https://localhost:8080/",
          "height": 34
        },
        "outputId": "fb35592e-8d53-4488-c09a-a36adb0423d7"
      },
      "source": [
        "import os\n",
        "os.chdir(\"neural_network\")\n",
        "\n",
        "!ls"
      ],
      "execution_count": 4,
      "outputs": [
        {
          "output_type": "stream",
          "text": [
            "bpnn.py  convolution_neural_network.py\tfcn.ipynb  perceptron.py\n"
          ],
          "name": "stdout"
        }
      ]
    },
    {
      "cell_type": "code",
      "metadata": {
        "id": "SYd-o-c_bCyS",
        "colab_type": "code",
        "colab": {
          "base_uri": "https://localhost:8080/",
          "height": 170
        },
        "outputId": "809883db-2a72-4d1b-baea-af72e6bb0e98"
      },
      "source": [
        "import os\n",
        "os.chdir(\"..\")\n",
        "\n",
        "!ls"
      ],
      "execution_count": 9,
      "outputs": [
        {
          "output_type": "stream",
          "text": [
            "analysis\t\t  graphs\t\t neural_network\n",
            "arithmetic_analysis\t  Graphs\t\t other\n",
            "binary_tree\t\t  hashes\t\t project_euler\n",
            "boolean_algebra\t\t  License\t\t README.md\n",
            "ciphers\t\t\t  linear_algebra_python  searches\n",
            "data_structures\t\t  machine_learning\t simple_client\n",
            "digital_image_processing  maths\t\t\t sorts\n",
            "dynamic_programming\t  matrix\t\t strings\n",
            "file_transfer_protocol\t  networking_flow\t traversals\n"
          ],
          "name": "stdout"
        }
      ]
    },
    {
      "cell_type": "code",
      "metadata": {
        "id": "Xg3vmtO_bi3K",
        "colab_type": "code",
        "colab": {
          "base_uri": "https://localhost:8080/",
          "height": 221
        },
        "outputId": "2b3d5e75-8291-4dcd-8b51-785c68ec70da"
      },
      "source": [
        "import os\n",
        "os.chdir(\"ciphers\")\n",
        "\n",
        "!ls"
      ],
      "execution_count": 10,
      "outputs": [
        {
          "output_type": "stream",
          "text": [
            "affine_cipher.py\t      prehistoric_men.txt\n",
            "base16.py\t\t      rabin_miller.py\n",
            "base32.py\t\t      rot13.py\n",
            "base64_cipher.py\t      rsa_cipher.py\n",
            "base85.py\t\t      rsa_key_generator.py\n",
            "brute_force_caesar_cipher.py  simple_substitution_cipher.py\n",
            "caesar_cipher.py\t      trafid_cipher.py\n",
            "cryptomath_module.py\t      transposition_cipher_encrypt_decrypt_file.py\n",
            "elgamal_key_generator.py      transposition_cipher.py\n",
            "hill_cipher.py\t\t      vigenere_cipher.py\n",
            "onepad_cipher.py\t      xor_cipher.py\n",
            "playfair_cipher.py\n"
          ],
          "name": "stdout"
        }
      ]
    },
    {
      "cell_type": "code",
      "metadata": {
        "id": "G1M_7QOqbnYS",
        "colab_type": "code",
        "colab": {
          "base_uri": "https://localhost:8080/",
          "height": 51
        },
        "outputId": "bf2d22e2-bd8b-4e2e-b463-c5a1b3a01dcb"
      },
      "source": [
        "!python base64_cipher.py"
      ],
      "execution_count": 12,
      "outputs": [
        {
          "output_type": "stream",
          "text": [
            "V0VMQ09NRSB0byBiYXNlNjQgZW5jb2Rpbmc=\n",
            "WELCOME to base64 encoding\n"
          ],
          "name": "stdout"
        }
      ]
    },
    {
      "cell_type": "code",
      "metadata": {
        "id": "BCqePskDcBHz",
        "colab_type": "code",
        "colab": {
          "base_uri": "https://localhost:8080/",
          "height": 357
        },
        "outputId": "a1a2f6a1-7373-4a01-e2c5-4a5347d6991e"
      },
      "source": [
        "!python caesar_cipher.py"
      ],
      "execution_count": 13,
      "outputs": [
        {
          "output_type": "stream",
          "text": [
            "----------\n",
            "**Menu**\n",
            "----------\n",
            "1.Encrpyt\n",
            "2.Decrypt\n",
            "3.BruteForce\n",
            "4.Quit\n",
            "What would you like to do?: 1\n",
            "Please enter the string to be encrypted: Hello World\n",
            "Please enter off-set between 1-94: 1\n",
            "ifmmp!xpsme\n",
            "----------\n",
            "**Menu**\n",
            "----------\n",
            "1.Encrpyt\n",
            "2.Decrypt\n",
            "3.BruteForce\n",
            "4.Quit\n",
            "What would you like to do?: 4\n",
            "Goodbye.\n"
          ],
          "name": "stdout"
        }
      ]
    }
  ]
}