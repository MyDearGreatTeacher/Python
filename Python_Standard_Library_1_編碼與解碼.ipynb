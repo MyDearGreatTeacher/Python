{
  "nbformat": 4,
  "nbformat_minor": 0,
  "metadata": {
    "colab": {
      "name": "Python_Standard Library_1_編碼與解碼.ipynb",
      "version": "0.3.2",
      "provenance": [],
      "include_colab_link": true
    },
    "kernelspec": {
      "name": "python3",
      "display_name": "Python 3"
    }
  },
  "cells": [
    {
      "cell_type": "markdown",
      "metadata": {
        "id": "view-in-github",
        "colab_type": "text"
      },
      "source": [
        "<a href=\"https://colab.research.google.com/github/MyDearGreatTeacher/Python/blob/master/Python_Standard_Library_1_%E7%B7%A8%E7%A2%BC%E8%88%87%E8%A7%A3%E7%A2%BC.ipynb\" target=\"_parent\"><img src=\"https://colab.research.google.com/assets/colab-badge.svg\" alt=\"Open In Colab\"/></a>"
      ]
    },
    {
      "cell_type": "markdown",
      "metadata": {
        "id": "MeuIITjl_xKh",
        "colab_type": "text"
      },
      "source": [
        "# Python 標準函式庫 (Standard Library)\n",
        "\n",
        "\n",
        "C++ 有強大的標準模板庫(Standard Template Library，STL）\n",
        "\n",
        "Python也有強大的標準函式庫 (Standard Library)\n",
        "\n",
        "本課程示範幾個範例,帶你認識Python 標準函式庫"
      ]
    },
    {
      "cell_type": "markdown",
      "metadata": {
        "id": "wFWAYnenAZdl",
        "colab_type": "text"
      },
      "source": [
        "# 推薦書籍與資源\n",
        "\n",
        "```\n",
        "[1]官方說明\n",
        "英文 https://docs.python.org/3/library/\n",
        "中文 https://docs.python.org/zh-tw/3/library/index.html\n",
        "\n",
        "[2]厚達上千頁的範例示範說明書\n",
        "\n",
        "The Python Standard Library By Example\n",
        "\n",
        "https://pymotw.com/3/\n",
        "https://bitbucket.org/dhellmann/pymotw-3/src/master/\n",
        "\n",
        "```"
      ]
    },
    {
      "cell_type": "markdown",
      "metadata": {
        "id": "yVfxUrAcEPvd",
        "colab_type": "text"
      },
      "source": [
        "# Base 64 模組"
      ]
    },
    {
      "cell_type": "markdown",
      "metadata": {
        "id": "UU49GVPHEY2H",
        "colab_type": "text"
      },
      "source": [
        "## 使用Base 64 模組編碼(encode)"
      ]
    },
    {
      "cell_type": "code",
      "metadata": {
        "id": "_sB5a7e0Drob",
        "colab_type": "code",
        "colab": {
          "base_uri": "https://localhost:8080/",
          "height": 51
        },
        "outputId": "dc30ec70-e872-4e85-8945-703f5c642c5a"
      },
      "source": [
        "import base64\n",
        "\n",
        "data =b'BreakAllCTF{HappyPythonDay}'\n",
        "encoded_data = base64.b64encode(data)\n",
        "print('Original Data :', data)\n",
        "print('Encoded :', encoded_data)"
      ],
      "execution_count": 2,
      "outputs": [
        {
          "output_type": "stream",
          "text": [
            "Original Data : b'BreakAllCTF{HappyPythonDay}'\n",
            "Encoded : b'QnJlYWtBbGxDVEZ7SGFwcHlQeXRob25EYXl9'\n"
          ],
          "name": "stdout"
        }
      ]
    },
    {
      "cell_type": "markdown",
      "metadata": {
        "id": "6fi-nUf4EgFQ",
        "colab_type": "text"
      },
      "source": [
        "## 使用Base 64 模組解碼(decode)"
      ]
    },
    {
      "cell_type": "code",
      "metadata": {
        "id": "6O2v1F47EEbV",
        "colab_type": "code",
        "colab": {
          "base_uri": "https://localhost:8080/",
          "height": 51
        },
        "outputId": "ba4e64cd-a3e0-40c8-8f0e-fe4ac5abc2af"
      },
      "source": [
        "import base64\n",
        "\n",
        "encoded_data = b'QnJlYWtBbGxDVEZ7SGFwcHlQeXRob25EYXl9'\n",
        "decoded_data = base64.b64decode(encoded_data)\n",
        "print('Encoded :', encoded_data)\n",
        "print('Decoded :', decoded_data)"
      ],
      "execution_count": 3,
      "outputs": [
        {
          "output_type": "stream",
          "text": [
            "Encoded : b'QnJlYWtBbGxDVEZ7SGFwcHlQeXRob25EYXl9'\n",
            "Decoded : b'BreakAllCTF{HappyPythonDay}'\n"
          ],
          "name": "stdout"
        }
      ]
    },
    {
      "cell_type": "markdown",
      "metadata": {
        "id": "WaRNqhS4EyPQ",
        "colab_type": "text"
      },
      "source": [
        "## Base 32編碼與解碼"
      ]
    },
    {
      "cell_type": "code",
      "metadata": {
        "id": "tZC04sVTE1r0",
        "colab_type": "code",
        "colab": {
          "base_uri": "https://localhost:8080/",
          "height": 68
        },
        "outputId": "fa8cc2d8-165a-459b-983c-54be292ad3a5"
      },
      "source": [
        "import base64\n",
        "\n",
        "original_data = b'BreakAllCTF{HappyPythonDay}'\n",
        "print('Original data:', original_data)\n",
        "\n",
        "encoded_data = base64.b32encode(original_data)\n",
        "print('Encoded :', encoded_data)\n",
        "\n",
        "decoded_data = base64.b32decode(encoded_data)\n",
        "print('Decoded :', decoded_data)"
      ],
      "execution_count": 4,
      "outputs": [
        {
          "output_type": "stream",
          "text": [
            "Original data: b'BreakAllCTF{HappyPythonDay}'\n",
            "Encoded : b'IJZGKYLLIFWGYQ2UIZ5UQYLQOB4VA6LUNBXW4RDBPF6Q===='\n",
            "Decoded : b'BreakAllCTF{HappyPythonDay}'\n"
          ],
          "name": "stdout"
        }
      ]
    }
  ]
}