{
  "nbformat": 4,
  "nbformat_minor": 0,
  "metadata": {
    "colab": {
      "name": "OOPython_ref.ipynb",
      "version": "0.3.2",
      "provenance": [],
      "include_colab_link": true
    },
    "kernelspec": {
      "name": "python3",
      "display_name": "Python 3"
    }
  },
  "cells": [
    {
      "cell_type": "markdown",
      "metadata": {
        "id": "view-in-github",
        "colab_type": "text"
      },
      "source": [
        "<a href=\"https://colab.research.google.com/github/MyDearGreatTeacher/Python/blob/master/OOPython_ref.ipynb\" target=\"_parent\"><img src=\"https://colab.research.google.com/assets/colab-badge.svg\" alt=\"Open In Colab\"/></a>"
      ]
    },
    {
      "cell_type": "markdown",
      "metadata": {
        "id": "-CetInoD-UnR",
        "colab_type": "text"
      },
      "source": [
        "# Object-Oriented Python\n",
        "\n",
        "\n",
        "\n",
        "```\n",
        "Python OOP 1 - Classes and Instances - https://youtu.be/ZDa-Z5JzLYM\n",
        "Python OOP 2 - Class Variables - https://youtu.be/BJ-VvGyQxho\n",
        "Python OOP 3 - Classmethods and Staticmethods - https://youtu.be/rq8cL2XMM5M\n",
        "Python OOP 4 - Inheritance - https://youtu.be/RSl87lqOXDE\n",
        "Python OOP 5 - Special (Magic/Dunder) Methods - https://youtu.be/3ohzBxoFHAY\n",
        "Python OOP 6 - Property Decorators - https://youtu.be/jCzT9XFZ5bw\n",
        "```"
      ]
    },
    {
      "cell_type": "code",
      "metadata": {
        "id": "W96oGLGi-Qkg",
        "colab_type": "code",
        "colab": {}
      },
      "source": [
        ""
      ],
      "execution_count": 0,
      "outputs": []
    }
  ]
}